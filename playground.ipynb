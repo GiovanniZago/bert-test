{
 "cells": [
  {
   "cell_type": "code",
   "execution_count": 11,
   "id": "3873691d",
   "metadata": {},
   "outputs": [],
   "source": [
    "import re"
   ]
  },
  {
   "cell_type": "code",
   "execution_count": 1,
   "id": "148e333b",
   "metadata": {},
   "outputs": [
    {
     "data": {
      "text/plain": [
       "['\"']"
      ]
     },
     "execution_count": 1,
     "metadata": {},
     "output_type": "execute_result"
    }
   ],
   "source": [
    "foo = '\"'\n",
    "foo.split(' ')"
   ]
  },
  {
   "cell_type": "code",
   "execution_count": 3,
   "id": "c7ded3cd",
   "metadata": {},
   "outputs": [
    {
     "data": {
      "text/plain": [
       "['']"
      ]
     },
     "execution_count": 3,
     "metadata": {},
     "output_type": "execute_result"
    }
   ],
   "source": [
    "foo = ''\n",
    "foo.split(' ')"
   ]
  },
  {
   "cell_type": "code",
   "execution_count": 46,
   "id": "a86a8cf6",
   "metadata": {},
   "outputs": [
    {
     "data": {
      "text/plain": [
       "'Ciao  bello '"
      ]
     },
     "execution_count": 46,
     "metadata": {},
     "output_type": "execute_result"
    }
   ],
   "source": [
    "# foo = \" = 2013 - 14 York City F.C. season = \\n\"\n",
    "# foo = \" = = Review = = \\n\"\n",
    "foo = 'Ciao ( 98) bello (xu78)'\n",
    "foo = re.sub(r'\\([^)]*\\)', '', foo)\n",
    "foo\n"
   ]
  }
 ],
 "metadata": {
  "kernelspec": {
   "display_name": "bxad-env",
   "language": "python",
   "name": "python3"
  },
  "language_info": {
   "codemirror_mode": {
    "name": "ipython",
    "version": 3
   },
   "file_extension": ".py",
   "mimetype": "text/x-python",
   "name": "python",
   "nbconvert_exporter": "python",
   "pygments_lexer": "ipython3",
   "version": "3.11.6"
  }
 },
 "nbformat": 4,
 "nbformat_minor": 5
}
